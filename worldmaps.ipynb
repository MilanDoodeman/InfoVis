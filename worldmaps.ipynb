{
 "cells": [
  {
   "cell_type": "markdown",
   "metadata": {},
   "source": [
    "# Groepsopdracht Informatie Visualisatie\n",
    "### Jop RIjksbaron, Milan Doodeman, Julien Coudron, Mark\n",
    "Weet niet of dit moet maar is een soort testbestandje"
   ]
  },
  {
   "cell_type": "code",
   "execution_count": 1,
   "metadata": {},
   "outputs": [
    {
     "data": {
      "text/html": [
       "<script>requirejs.config({paths: { 'plotly': ['https://cdn.plot.ly/plotly-latest.min']},});if(!window.Plotly) {{require(['plotly'],function(plotly) {window.Plotly=plotly;});}}</script>"
      ],
      "text/vnd.plotly.v1+html": [
       "<script>requirejs.config({paths: { 'plotly': ['https://cdn.plot.ly/plotly-latest.min']},});if(!window.Plotly) {{require(['plotly'],function(plotly) {window.Plotly=plotly;});}}</script>"
      ]
     },
     "metadata": {},
     "output_type": "display_data"
    }
   ],
   "source": [
    "# Deze cell importeert een aantal functies en modules \n",
    "# die je nodig hebt om deze opdracht te maken.\n",
    "\n",
    "from plotly.offline import init_notebook_mode, iplot\n",
    "import plotly.graph_objs as go\n",
    "\n",
    "# Start notebook mode\n",
    "init_notebook_mode(connected=True)\n",
    "\n",
    "# pandas om de CSV data te laden en te visualiseren\n",
    "import pandas as pd "
   ]
  },
  {
   "cell_type": "code",
   "execution_count": 2,
   "metadata": {},
   "outputs": [
    {
     "name": "stderr",
     "output_type": "stream",
     "text": [
      "/Library/Frameworks/Python.framework/Versions/3.6/lib/python3.6/site-packages/IPython/core/interactiveshell.py:2728: DtypeWarning:\n",
      "\n",
      "Columns (4,61,62,66,116,117,123) have mixed types. Specify dtype option on import or set low_memory=False.\n",
      "\n"
     ]
    },
    {
     "data": {
      "text/plain": [
       "['eventid',\n",
       " 'iyear',\n",
       " 'imonth',\n",
       " 'iday',\n",
       " 'approxdate',\n",
       " 'extended',\n",
       " 'resolution',\n",
       " 'country',\n",
       " 'country_txt',\n",
       " 'region',\n",
       " 'region_txt',\n",
       " 'provstate',\n",
       " 'city',\n",
       " 'latitude',\n",
       " 'longitude',\n",
       " 'specificity',\n",
       " 'vicinity',\n",
       " 'location',\n",
       " 'summary',\n",
       " 'crit1',\n",
       " 'crit2',\n",
       " 'crit3',\n",
       " 'doubtterr',\n",
       " 'alternative',\n",
       " 'alternative_txt',\n",
       " 'multiple',\n",
       " 'success',\n",
       " 'suicide',\n",
       " 'attacktype1',\n",
       " 'attacktype1_txt',\n",
       " 'attacktype2',\n",
       " 'attacktype2_txt',\n",
       " 'attacktype3',\n",
       " 'attacktype3_txt',\n",
       " 'targtype1',\n",
       " 'targtype1_txt',\n",
       " 'targsubtype1',\n",
       " 'targsubtype1_txt',\n",
       " 'corp1',\n",
       " 'target1',\n",
       " 'natlty1',\n",
       " 'natlty1_txt',\n",
       " 'targtype2',\n",
       " 'targtype2_txt',\n",
       " 'targsubtype2',\n",
       " 'targsubtype2_txt',\n",
       " 'corp2',\n",
       " 'target2',\n",
       " 'natlty2',\n",
       " 'natlty2_txt',\n",
       " 'targtype3',\n",
       " 'targtype3_txt',\n",
       " 'targsubtype3',\n",
       " 'targsubtype3_txt',\n",
       " 'corp3',\n",
       " 'target3',\n",
       " 'natlty3',\n",
       " 'natlty3_txt',\n",
       " 'gname',\n",
       " 'gsubname',\n",
       " 'gname2',\n",
       " 'gsubname2',\n",
       " 'gname3',\n",
       " 'ingroup',\n",
       " 'ingroup2',\n",
       " 'ingroup3',\n",
       " 'gsubname3',\n",
       " 'motive',\n",
       " 'guncertain1',\n",
       " 'guncertain2',\n",
       " 'guncertain3',\n",
       " 'nperps',\n",
       " 'nperpcap',\n",
       " 'claimed',\n",
       " 'claimmode',\n",
       " 'claimmode_txt',\n",
       " 'claim2',\n",
       " 'claimmode2',\n",
       " 'claimmode2_txt',\n",
       " 'claim3',\n",
       " 'claimmode3',\n",
       " 'claimmode3_txt',\n",
       " 'compclaim',\n",
       " 'weaptype1',\n",
       " 'weaptype1_txt',\n",
       " 'weapsubtype1',\n",
       " 'weapsubtype1_txt',\n",
       " 'weaptype2',\n",
       " 'weaptype2_txt',\n",
       " 'weapsubtype2',\n",
       " 'weapsubtype2_txt',\n",
       " 'weaptype3',\n",
       " 'weaptype3_txt',\n",
       " 'weapsubtype3',\n",
       " 'weapsubtype3_txt',\n",
       " 'weaptype4',\n",
       " 'weaptype4_txt',\n",
       " 'weapsubtype4',\n",
       " 'weapsubtype4_txt',\n",
       " 'weapdetail',\n",
       " 'nkill',\n",
       " 'nkillus',\n",
       " 'nkillter',\n",
       " 'nwound',\n",
       " 'nwoundus',\n",
       " 'nwoundte',\n",
       " 'property',\n",
       " 'propextent',\n",
       " 'propextent_txt',\n",
       " 'propvalue',\n",
       " 'propcomment',\n",
       " 'ishostkid',\n",
       " 'nhostkid',\n",
       " 'nhostkidus',\n",
       " 'nhours',\n",
       " 'ndays',\n",
       " 'divert',\n",
       " 'kidhijcountry',\n",
       " 'ransom',\n",
       " 'ransomamt',\n",
       " 'ransomamtus',\n",
       " 'ransompaid',\n",
       " 'ransompaidus',\n",
       " 'ransomnote',\n",
       " 'hostkidoutcome',\n",
       " 'hostkidoutcome_txt',\n",
       " 'nreleased',\n",
       " 'addnotes',\n",
       " 'scite1',\n",
       " 'scite2',\n",
       " 'scite3',\n",
       " 'dbsource',\n",
       " 'INT_LOG',\n",
       " 'INT_IDEO',\n",
       " 'INT_MISC',\n",
       " 'INT_ANY',\n",
       " 'related']"
      ]
     },
     "execution_count": 2,
     "metadata": {},
     "output_type": "execute_result"
    }
   ],
   "source": [
    "df = pd.read_csv('globalterrorismdb_0616dist.csv', encoding = \"cp1252\")\n",
    "list(df)"
   ]
  },
  {
   "cell_type": "code",
   "execution_count": 3,
   "metadata": {},
   "outputs": [],
   "source": [
    "def HowManyKillsYearCountry(year, country):\n",
    "    YAN = df[df[\"iyear\"] == year]\n",
    "    YCAN = YAN[df[\"country_txt\"] == country]\n",
    "    totalkills = YCAN[\"nkill\"].sum()\n",
    "    return totalkills"
   ]
  },
  {
   "cell_type": "code",
   "execution_count": 4,
   "metadata": {},
   "outputs": [
    {
     "data": {
      "text/plain": [
       "{'Abortion Related',\n",
       " 'Airports & Aircraft',\n",
       " 'Business',\n",
       " 'Educational Institution',\n",
       " 'Food or Water Supply',\n",
       " 'Government (Diplomatic)',\n",
       " 'Government (General)',\n",
       " 'Journalists & Media',\n",
       " 'Maritime',\n",
       " 'Military',\n",
       " 'NGO',\n",
       " 'Other',\n",
       " 'Police',\n",
       " 'Private Citizens & Property',\n",
       " 'Religious Figures/Institutions',\n",
       " 'Telecommunication',\n",
       " 'Terrorists/Non-State Militia',\n",
       " 'Tourists',\n",
       " 'Transportation',\n",
       " 'Unknown',\n",
       " 'Utilities',\n",
       " 'Violent Political Party'}"
      ]
     },
     "execution_count": 4,
     "metadata": {},
     "output_type": "execute_result"
    }
   ],
   "source": [
    "set(df['targtype1_txt'])"
   ]
  },
  {
   "cell_type": "code",
   "execution_count": 5,
   "metadata": {},
   "outputs": [
    {
     "data": {
      "text/plain": [
       "{'Armed Assault',\n",
       " 'Assassination',\n",
       " 'Bombing/Explosion',\n",
       " 'Facility/Infrastructure Attack',\n",
       " 'Hijacking',\n",
       " 'Hostage Taking (Barricade Incident)',\n",
       " 'Hostage Taking (Kidnapping)',\n",
       " 'Unarmed Assault',\n",
       " 'Unknown'}"
      ]
     },
     "execution_count": 5,
     "metadata": {},
     "output_type": "execute_result"
    }
   ],
   "source": [
    "set(df['attacktype1_txt'])"
   ]
  },
  {
   "cell_type": "code",
   "execution_count": 6,
   "metadata": {},
   "outputs": [
    {
     "name": "stderr",
     "output_type": "stream",
     "text": [
      "/Library/Frameworks/Python.framework/Versions/3.6/lib/python3.6/site-packages/ipykernel_launcher.py:3: UserWarning:\n",
      "\n",
      "Boolean Series key will be reindexed to match DataFrame index.\n",
      "\n"
     ]
    },
    {
     "data": {
      "text/plain": [
       "694.0"
      ]
     },
     "execution_count": 6,
     "metadata": {},
     "output_type": "execute_result"
    }
   ],
   "source": [
    "HowManyKillsYearCountry(1990,\"Colombia\")"
   ]
  },
  {
   "cell_type": "code",
   "execution_count": 7,
   "metadata": {},
   "outputs": [],
   "source": [
    "def KillsEachYear(country):\n",
    "    traces = go.Bar(\n",
    "        x = [i for i in df['iyear'].unique()],\n",
    "        y = [HowManyKillsYearCountry(year, country) for year in df['iyear'].unique()],\n",
    "    )\n",
    "\n",
    "    layout = go.Layout(\n",
    "        title=country,\n",
    "        xaxis={'title':'year'}, \n",
    "        yaxis={'title':'kills'}\n",
    "    )\n",
    "    data = go.Data([traces])\n",
    "\n",
    "    fig = go.Figure(data=data, layout= layout)\n",
    "    iplot(fig)"
   ]
  },
  {
   "cell_type": "code",
   "execution_count": 8,
   "metadata": {},
   "outputs": [
    {
     "name": "stderr",
     "output_type": "stream",
     "text": [
      "/Library/Frameworks/Python.framework/Versions/3.6/lib/python3.6/site-packages/ipykernel_launcher.py:3: UserWarning:\n",
      "\n",
      "Boolean Series key will be reindexed to match DataFrame index.\n",
      "\n"
     ]
    },
    {
     "data": {
      "application/vnd.plotly.v1+json": {
       "data": [
        {
         "type": "bar",
         "x": [
          1970,
          1971,
          1972,
          1973,
          1974,
          1975,
          1976,
          1977,
          1978,
          1979,
          1980,
          1981,
          1986,
          1982,
          1983,
          1984,
          1985,
          1987,
          1988,
          1989,
          1990,
          1991,
          1992,
          1994,
          1995,
          1996,
          1997,
          1998,
          1999,
          2000,
          2001,
          2002,
          2003,
          2004,
          2005,
          2006,
          2007,
          2008,
          2009,
          2010,
          2011,
          2012,
          2013,
          2014,
          2015
         ],
         "y": [
          0,
          0,
          0,
          0,
          0,
          0,
          0,
          0,
          0,
          53,
          0,
          0,
          0,
          0,
          0,
          0,
          0,
          0,
          128,
          10,
          12,
          68,
          49,
          22,
          5,
          31,
          4,
          8,
          39,
          38,
          174,
          74,
          163,
          275,
          367,
          731,
          1197,
          1089,
          1064,
          1058,
          1521,
          3521,
          3696,
          5413,
          6208
         ]
        }
       ],
       "layout": {
        "title": "Afghanistan",
        "xaxis": {
         "title": "year"
        },
        "yaxis": {
         "title": "kills"
        }
       }
      },
      "text/html": [
       "<div id=\"8ea2420e-9f28-41b7-b44e-a02696b20c6f\" style=\"height: 525px; width: 100%;\" class=\"plotly-graph-div\"></div><script type=\"text/javascript\">require([\"plotly\"], function(Plotly) { window.PLOTLYENV=window.PLOTLYENV || {};window.PLOTLYENV.BASE_URL=\"https://plot.ly\";Plotly.newPlot(\"8ea2420e-9f28-41b7-b44e-a02696b20c6f\", [{\"type\": \"bar\", \"x\": [1970, 1971, 1972, 1973, 1974, 1975, 1976, 1977, 1978, 1979, 1980, 1981, 1986, 1982, 1983, 1984, 1985, 1987, 1988, 1989, 1990, 1991, 1992, 1994, 1995, 1996, 1997, 1998, 1999, 2000, 2001, 2002, 2003, 2004, 2005, 2006, 2007, 2008, 2009, 2010, 2011, 2012, 2013, 2014, 2015], \"y\": [0, 0, 0, 0.0, 0, 0, 0, 0, 0, 53.0, 0, 0, 0, 0, 0, 0, 0, 0.0, 128.0, 10.0, 12.0, 68.0, 49.0, 22.0, 5.0, 31.0, 4.0, 8.0, 39.0, 38.0, 174.0, 74.0, 163.0, 275.0, 367.0, 731.0, 1197.0, 1089.0, 1064.0, 1058.0, 1521.0, 3521.0, 3696.0, 5413.0, 6208.0]}], {\"title\": \"Afghanistan\", \"xaxis\": {\"title\": \"year\"}, \"yaxis\": {\"title\": \"kills\"}}, {\"showLink\": true, \"linkText\": \"Export to plot.ly\"})});</script>"
      ],
      "text/vnd.plotly.v1+html": [
       "<div id=\"8ea2420e-9f28-41b7-b44e-a02696b20c6f\" style=\"height: 525px; width: 100%;\" class=\"plotly-graph-div\"></div><script type=\"text/javascript\">require([\"plotly\"], function(Plotly) { window.PLOTLYENV=window.PLOTLYENV || {};window.PLOTLYENV.BASE_URL=\"https://plot.ly\";Plotly.newPlot(\"8ea2420e-9f28-41b7-b44e-a02696b20c6f\", [{\"type\": \"bar\", \"x\": [1970, 1971, 1972, 1973, 1974, 1975, 1976, 1977, 1978, 1979, 1980, 1981, 1986, 1982, 1983, 1984, 1985, 1987, 1988, 1989, 1990, 1991, 1992, 1994, 1995, 1996, 1997, 1998, 1999, 2000, 2001, 2002, 2003, 2004, 2005, 2006, 2007, 2008, 2009, 2010, 2011, 2012, 2013, 2014, 2015], \"y\": [0, 0, 0, 0.0, 0, 0, 0, 0, 0, 53.0, 0, 0, 0, 0, 0, 0, 0, 0.0, 128.0, 10.0, 12.0, 68.0, 49.0, 22.0, 5.0, 31.0, 4.0, 8.0, 39.0, 38.0, 174.0, 74.0, 163.0, 275.0, 367.0, 731.0, 1197.0, 1089.0, 1064.0, 1058.0, 1521.0, 3521.0, 3696.0, 5413.0, 6208.0]}], {\"title\": \"Afghanistan\", \"xaxis\": {\"title\": \"year\"}, \"yaxis\": {\"title\": \"kills\"}}, {\"showLink\": true, \"linkText\": \"Export to plot.ly\"})});</script>"
      ]
     },
     "metadata": {},
     "output_type": "display_data"
    }
   ],
   "source": [
    "KillsEachYear('Afghanistan')"
   ]
  },
  {
   "cell_type": "code",
   "execution_count": 9,
   "metadata": {},
   "outputs": [
    {
     "ename": "ModuleNotFoundError",
     "evalue": "No module named 'pycountry'",
     "output_type": "error",
     "traceback": [
      "\u001b[0;31m---------------------------------------------------------------------------\u001b[0m",
      "\u001b[0;31mModuleNotFoundError\u001b[0m                       Traceback (most recent call last)",
      "\u001b[0;32m<ipython-input-9-232ccfcc041d>\u001b[0m in \u001b[0;36m<module>\u001b[0;34m()\u001b[0m\n\u001b[0;32m----> 1\u001b[0;31m \u001b[0;32mimport\u001b[0m \u001b[0mpycountry\u001b[0m\u001b[0;34m\u001b[0m\u001b[0m\n\u001b[0m\u001b[1;32m      2\u001b[0m \u001b[0;34m\u001b[0m\u001b[0m\n\u001b[1;32m      3\u001b[0m \u001b[0;34m\u001b[0m\u001b[0m\n\u001b[1;32m      4\u001b[0m \u001b[0minput_countries\u001b[0m \u001b[0;34m=\u001b[0m \u001b[0mdf\u001b[0m\u001b[0;34m[\u001b[0m\u001b[0;34m'country_txt'\u001b[0m\u001b[0;34m]\u001b[0m\u001b[0;34m.\u001b[0m\u001b[0munique\u001b[0m\u001b[0;34m(\u001b[0m\u001b[0;34m)\u001b[0m\u001b[0;34m\u001b[0m\u001b[0m\n\u001b[1;32m      5\u001b[0m \u001b[0;34m\u001b[0m\u001b[0m\n",
      "\u001b[0;31mModuleNotFoundError\u001b[0m: No module named 'pycountry'"
     ]
    }
   ],
   "source": [
    "import pycountry\n",
    "\n",
    "\n",
    "input_countries = df['country_txt'].unique()\n",
    "\n",
    "countries = {}\n",
    "for country in pycountry.countries:\n",
    "    \n",
    "    countries[country.name] = country.alpha_3\n",
    "\n",
    "countries"
   ]
  },
  {
   "cell_type": "code",
   "execution_count": null,
   "metadata": {},
   "outputs": [],
   "source": [
    "x = list(set(df['country_txt'].values))\n",
    "y = [HowManyKillsYearCountry(2010, country) \\\n",
    "     for country in df['country_txt'].unique() if HowManyKillsYearCountry(2010, country) > 0]\n"
   ]
  },
  {
   "cell_type": "code",
   "execution_count": null,
   "metadata": {},
   "outputs": [],
   "source": [
    "len(x)"
   ]
  },
  {
   "cell_type": "code",
   "execution_count": null,
   "metadata": {},
   "outputs": [],
   "source": [
    "codes = []\n",
    "for i in x:\n",
    "    if i in countries.keys():\n",
    "        codes.append(countries[i])\n",
    "    if i not in countries.keys():\n",
    "        codes.append(i)\n",
    "codes"
   ]
  },
  {
   "cell_type": "code",
   "execution_count": null,
   "metadata": {},
   "outputs": [],
   "source": [
    "traces = go.Bar(\n",
    "    x = [i for i in codes],\n",
    "    y = [HowManyKillsYearCountry(2010, country) \\\n",
    "         for country in df['country_txt'].unique()]\n",
    ")\n",
    "\n",
    "layout = go.Layout(\n",
    "    xaxis={'title':'year'}, \n",
    "    yaxis={'title':'kills'}\n",
    ")\n",
    "data = go.Data([traces])\n",
    "print(data)\n",
    "fig = go.Figure(data=data, layout= layout)\n",
    "iplot(fig)"
   ]
  },
  {
   "cell_type": "code",
   "execution_count": null,
   "metadata": {},
   "outputs": [],
   "source": [
    "len(data[0]['x'])"
   ]
  },
  {
   "cell_type": "code",
   "execution_count": null,
   "metadata": {},
   "outputs": [],
   "source": [
    "[i for i in codes if len(i) > 3]"
   ]
  },
  {
   "cell_type": "code",
   "execution_count": null,
   "metadata": {},
   "outputs": [],
   "source": [
    "import iso3166"
   ]
  },
  {
   "cell_type": "code",
   "execution_count": null,
   "metadata": {},
   "outputs": [],
   "source": [
    "iso3166.countries_by_alpha3.keys()"
   ]
  },
  {
   "cell_type": "code",
   "execution_count": null,
   "metadata": {},
   "outputs": [],
   "source": [
    "df['nkill'].fillna(0).astype(int)"
   ]
  },
  {
   "cell_type": "code",
   "execution_count": null,
   "metadata": {},
   "outputs": [],
   "source": [
    "trace1 = go.Scattergeo(\n",
    "    geo='geo3',\n",
    "    lon=df[df['iyear']==2001]['longitude'],\n",
    "    lat=df[df['iyear']==2001]['latitude'],\n",
    "    mode='markers',\n",
    "    marker=go.Marker(\n",
    "        size = 3,\n",
    "        opacity=0.1,\n",
    "        color='blue',\n",
    "    ),\n",
    "    text=df[df['iyear']==2001]['nkill']\n",
    ")\n",
    "\n",
    "data=[trace1]\n",
    "\n",
    "layout = go.Layout(\n",
    "    title='kills each year',\n",
    "    height=700,\n",
    "    dragmode='zoom',\n",
    "    showlegend=True,\n",
    "    geo3=dict(\n",
    "        projection=dict(\n",
    "            type='equirectangular', \n",
    "        ),\n",
    "        scope='world', \n",
    "        showlakes=False,\n",
    "        showocean=False,\n",
    "        showland=True,\n",
    "        showcountries=True,\n",
    "        \n",
    "    )\n",
    "    \n",
    ")\n",
    "\n",
    "fig = go.Figure(data=data, layout=layout)\n",
    "iplot(fig)"
   ]
  },
  {
   "cell_type": "code",
   "execution_count": null,
   "metadata": {},
   "outputs": [],
   "source": []
  },
  {
   "cell_type": "code",
   "execution_count": null,
   "metadata": {},
   "outputs": [],
   "source": []
  }
 ],
 "metadata": {
  "kernelspec": {
   "display_name": "Python 3",
   "language": "python",
   "name": "python3"
  },
  "language_info": {
   "codemirror_mode": {
    "name": "ipython",
    "version": 3
   },
   "file_extension": ".py",
   "mimetype": "text/x-python",
   "name": "python",
   "nbconvert_exporter": "python",
   "pygments_lexer": "ipython3",
   "version": "3.6.2"
  }
 },
 "nbformat": 4,
 "nbformat_minor": 2
}
